{
 "cells": [
  {
   "cell_type": "code",
   "execution_count": 1,
   "metadata": {
    "collapsed": true
   },
   "outputs": [],
   "source": [
    "import numpy as np\n",
    "from pyCoCo import pyCoCo"
   ]
  },
  {
   "cell_type": "code",
   "execution_count": 2,
   "metadata": {
    "collapsed": true
   },
   "outputs": [],
   "source": [
    "fltPath = b\"/Users/szymon/Projects/CoCo/data/filters\"\n",
    "rootPath = b\"/Users/szymon/Projects/CoCo\""
   ]
  },
  {
   "cell_type": "code",
   "execution_count": 3,
   "metadata": {
    "collapsed": false
   },
   "outputs": [
    {
     "name": "stdout",
     "output_type": "stream",
     "text": [
      "332 ms ± 877 µs per loop (mean ± std. dev. of 7 runs, 1 loop each)\n"
     ]
    }
   ],
   "source": [
    "%%timeit \n",
    "\n",
    "coco = pyCoCo(fltPath, rootPath)"
   ]
  },
  {
   "cell_type": "code",
   "execution_count": 3,
   "metadata": {
    "collapsed": false
   },
   "outputs": [],
   "source": [
    "coco = pyCoCo(fltPath, rootPath)"
   ]
  },
  {
   "cell_type": "code",
   "execution_count": 4,
   "metadata": {
    "collapsed": true
   },
   "outputs": [],
   "source": [
    "mjd = np.arange(55000, 55100, 5, dtype=float)\n",
    "flt = [b\"SDSS_r\", b\"SDSS_r\", b\"SDSS_r\", b\"SDSS_r\", b\"SDSS_r\",\n",
    "       b\"SDSS_r\", b\"SDSS_r\", b\"SDSS_r\", b\"SDSS_r\", b\"SDSS_r\",\n",
    "       b\"SDSS_i\", b\"SDSS_i\", b\"SDSS_i\", b\"SDSS_i\", b\"SDSS_i\",\n",
    "       b\"SDSS_i\", b\"SDSS_i\", b\"SDSS_i\", b\"SDSS_i\", b\"SDSS_i\"]\n",
    "flt = np.array(flt)"
   ]
  },
  {
   "cell_type": "code",
   "execution_count": 5,
   "metadata": {
    "collapsed": false
   },
   "outputs": [
    {
     "name": "stdout",
     "output_type": "stream",
     "text": [
      "164 ms ± 1.39 ms per loop (mean ± std. dev. of 7 runs, 10 loops each)\n"
     ]
    }
   ],
   "source": [
    "%%timeit\n",
    "\n",
    "coco.simulate(b\"SN1994I\", 0.1, -1.0, 0.2, 0.1, 3.1, 55000.0, mjd, flt)"
   ]
  },
  {
   "cell_type": "code",
   "execution_count": 6,
   "metadata": {
    "collapsed": false
   },
   "outputs": [
    {
     "data": {
      "text/plain": [
       "array([[  1.03913696e-17,   7.78887051e-18,   4.73162858e-18,\n",
       "          2.75936625e-18,   1.55442893e-18,   8.39496816e-19,\n",
       "          4.30383900e-19,   2.07823934e-19,   9.57459112e-20,\n",
       "          4.64839086e-20,   3.01981861e-21,   9.71810384e-20,\n",
       "          3.28170991e-19,   6.04394911e-19,   8.31771215e-19,\n",
       "          9.54611306e-19,   9.67843514e-19,   8.99224068e-19,\n",
       "          7.84933257e-19,   6.54823219e-19],\n",
       "       [  0.00000000e+00,   0.00000000e+00,   0.00000000e+00,\n",
       "          0.00000000e+00,   0.00000000e+00,   0.00000000e+00,\n",
       "          0.00000000e+00,   0.00000000e+00,   0.00000000e+00,\n",
       "          0.00000000e+00,   0.00000000e+00,   0.00000000e+00,\n",
       "          0.00000000e+00,   0.00000000e+00,   0.00000000e+00,\n",
       "          0.00000000e+00,   0.00000000e+00,   0.00000000e+00,\n",
       "          0.00000000e+00,   0.00000000e+00]])"
      ]
     },
     "execution_count": 6,
     "metadata": {},
     "output_type": "execute_result"
    }
   ],
   "source": [
    "coco.simulate(b\"SN1994I\", 0.1, -1.0, 0.2, 0.1, 3.1, 55000.0, mjd, flt)"
   ]
  },
  {
   "cell_type": "code",
   "execution_count": 8,
   "metadata": {
    "collapsed": false
   },
   "outputs": [],
   "source": [
    "paramMap = coco.get_fit_params()"
   ]
  },
  {
   "cell_type": "code",
   "execution_count": 10,
   "metadata": {
    "collapsed": false
   },
   "outputs": [
    {
     "data": {
      "text/plain": [
       "dict_keys([b'SDSS_r', b'SDSS_i'])"
      ]
     },
     "execution_count": 10,
     "metadata": {},
     "output_type": "execute_result"
    }
   ],
   "source": [
    "paramMap.keys()"
   ]
  },
  {
   "cell_type": "code",
   "execution_count": null,
   "metadata": {
    "collapsed": true
   },
   "outputs": [],
   "source": []
  }
 ],
 "metadata": {
  "anaconda-cloud": {},
  "kernelspec": {
   "display_name": "Python [conda root]",
   "language": "python",
   "name": "conda-root-py"
  },
  "language_info": {
   "codemirror_mode": {
    "name": "ipython",
    "version": 3
   },
   "file_extension": ".py",
   "mimetype": "text/x-python",
   "name": "python",
   "nbconvert_exporter": "python",
   "pygments_lexer": "ipython3",
   "version": "3.5.2"
  }
 },
 "nbformat": 4,
 "nbformat_minor": 1
}
