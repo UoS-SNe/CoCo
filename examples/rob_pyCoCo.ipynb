{
 "cells": [
  {
   "cell_type": "code",
   "execution_count": 3,
   "metadata": {
    "collapsed": true
   },
   "outputs": [],
   "source": [
    "import numpy as np\n",
    "from pyCoCo import pyCoCo"
   ]
  },
  {
   "cell_type": "code",
   "execution_count": 13,
   "metadata": {
    "collapsed": true
   },
   "outputs": [],
   "source": [
    "# fltPath = b\"/Users/szymon/Projects/CoCo/data/filters\"\n",
    "# rootPath = b\"/Users/szymon/Projects/CoCo\"\n",
    "\n",
    "fltPath = b\"/Users/berto/Code/CoCo/data/filters\"\n",
    "rootPath = b\"/Users/berto/Code/CoCo\""
   ]
  },
  {
   "cell_type": "code",
   "execution_count": 14,
   "metadata": {
    "collapsed": false
   },
   "outputs": [
    {
     "name": "stdout",
     "output_type": "stream",
     "text": [
      "1 loop, best of 3: 281 ms per loop\n"
     ]
    }
   ],
   "source": [
    "%%timeit \n",
    "\n",
    "coco = pyCoCo(fltPath, rootPath)"
   ]
  },
  {
   "cell_type": "code",
   "execution_count": 15,
   "metadata": {
    "collapsed": false
   },
   "outputs": [],
   "source": [
    "coco = pyCoCo(fltPath, rootPath)"
   ]
  },
  {
   "cell_type": "code",
   "execution_count": 16,
   "metadata": {
    "collapsed": true
   },
   "outputs": [],
   "source": [
    "mjd = np.arange(55000, 55100, 5, dtype=float)\n",
    "# flt = [b\"SDSS_r\", b\"SDSS_r\", b\"SDSS_r\", b\"SDSS_r\", b\"SDSS_r\",\n",
    "#        b\"SDSS_r\", b\"SDSS_r\", b\"SDSS_r\", b\"SDSS_r\", b\"SDSS_r\",\n",
    "#        b\"SDSS_i\", b\"SDSS_i\", b\"SDSS_i\", b\"SDSS_i\", b\"SDSS_i\",\n",
    "#        b\"SDSS_i\", b\"SDSS_i\", b\"SDSS_i\", b\"SDSS_i\", b\"SDSS_i\"]\n",
    "flt = [b\"LSST_r\", b\"LSST_r\", b\"LSST_r\", b\"LSST_r\", b\"LSST_r\",\n",
    "       b\"LSST_r\", b\"LSST_r\", b\"LSST_r\", b\"LSST_r\", b\"LSST_r\",\n",
    "       b\"LSST_i\", b\"LSST_i\", b\"LSST_i\", b\"LSST_i\", b\"LSST_i\",\n",
    "       b\"LSST_i\", b\"LSST_i\", b\"LSST_i\", b\"LSST_i\", b\"LSST_i\"]\n",
    "flt = np.array(flt)"
   ]
  },
  {
   "cell_type": "code",
   "execution_count": 17,
   "metadata": {
    "collapsed": false
   },
   "outputs": [
    {
     "name": "stdout",
     "output_type": "stream",
     "text": [
      "10 loops, best of 3: 49.2 ms per loop\n"
     ]
    }
   ],
   "source": [
    "%%timeit\n",
    "\n",
    "coco.simulate(b\"SN2011dh\", 0.1, -1.0, 0.2, 0.1, 3.1, 55000.0, mjd, flt)"
   ]
  },
  {
   "cell_type": "code",
   "execution_count": 18,
   "metadata": {
    "collapsed": false
   },
   "outputs": [
    {
     "data": {
      "text/plain": [
       "array([[  4.23738528e-16,   4.17376203e-16,   4.01115204e-16,\n",
       "          3.77873652e-16,   3.50154079e-16,   3.19998592e-16,\n",
       "          2.89002870e-16,   2.58361219e-16,   2.28925097e-16,\n",
       "          2.01264426e-16,   2.12993694e-16,   1.84821945e-16,\n",
       "          1.59490069e-16,   1.36943541e-16,   1.17052065e-16,\n",
       "          9.96371254e-17,   8.44929635e-17,   7.14021247e-17,\n",
       "          6.01466186e-17,   5.05156175e-17],\n",
       "       [  0.00000000e+00,   0.00000000e+00,   0.00000000e+00,\n",
       "          0.00000000e+00,   0.00000000e+00,   0.00000000e+00,\n",
       "          0.00000000e+00,   0.00000000e+00,   0.00000000e+00,\n",
       "          0.00000000e+00,   0.00000000e+00,   0.00000000e+00,\n",
       "          0.00000000e+00,   0.00000000e+00,   0.00000000e+00,\n",
       "          0.00000000e+00,   0.00000000e+00,   0.00000000e+00,\n",
       "          0.00000000e+00,   0.00000000e+00]])"
      ]
     },
     "execution_count": 18,
     "metadata": {},
     "output_type": "execute_result"
    }
   ],
   "source": [
    "coco.simulate(b\"SN2011dh\", 0.1, -1.0, 0.2, 0.1, 3.1, 55000.0, mjd, flt)"
   ]
  },
  {
   "cell_type": "code",
   "execution_count": null,
   "metadata": {
    "collapsed": true
   },
   "outputs": [],
   "source": []
  }
 ],
 "metadata": {
  "anaconda-cloud": {},
  "kernelspec": {
   "display_name": "Python 3",
   "language": "python",
   "name": "python3"
  },
  "language_info": {
   "codemirror_mode": {
    "name": "ipython",
    "version": 3
   },
   "file_extension": ".py",
   "mimetype": "text/x-python",
   "name": "python",
   "nbconvert_exporter": "python",
   "pygments_lexer": "ipython3",
   "version": "3.6.0"
  }
 },
 "nbformat": 4,
 "nbformat_minor": 1
}
